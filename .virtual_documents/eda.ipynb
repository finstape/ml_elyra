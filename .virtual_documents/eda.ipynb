import numpy as np
import pandas as pd

import seaborn as sns

import plotly.express as px
import matplotlib.pyplot as plt
import plotly.graph_objects as go
from plotly.subplots import make_subplots


train_df = pd.read_csv('train.csv')
test_df = pd.read_csv('test.csv')


train_df.head()


train_df.shape


train_df.info()


train_df.describe()


train_df.describe(include=['O'])


train_df['Transported'].value_counts()


train_df.isnull().sum()


test_df.head()


test_df.shape


test_df.info()


test_df.describe()


test_df.describe(include=['O'])


test_df.isnull().sum()


import warnings
warnings.filterwarnings("ignore", category=FutureWarning)

train_df.replace([np.inf, -np.inf], np.nan, inplace=True)

plt.figure(figsize=(10, 4))
sns.histplot(data=train_df, x='Age', hue='Transported', binwidth=1, kde=True)
plt.title('Age distribution')
plt.xlabel('Age (years)')
plt.show()


exp_feats = ['RoomService', 'FoodCourt', 'ShoppingMall', 'Spa', 'VRDeck']

fig = plt.figure(figsize=(12, 20))
for i, var_name in enumerate(exp_feats):
    ax = fig.add_subplot(5, 2, 2*i + 1)
    sns.histplot(data=train_df, x=var_name, bins=30, kde=False, hue='Transported')
    ax.set_title(f'Distribution of {var_name} (Full Range)')
    
    ax = fig.add_subplot(5, 2, 2*i + 2)
    sns.histplot(data=train_df, x=var_name, bins=30, kde=True, hue='Transported')
    ax.set_ylim([0, 100])
    ax.set_title(f'Distribution of {var_name} (Truncated)')
    
fig.tight_layout()
plt.show()


cat_feats = ['HomePlanet', 'CryoSleep', 'Destination', 'VIP']

fig = plt.figure(figsize=(12, len(cat_feats) * 4))
for i, var_name in enumerate(cat_feats):
    ax = fig.add_subplot(len(cat_feats), 1, i + 1)
    sns.countplot(data=train_df, x=var_name, hue='Transported', ax=ax)
    ax.set_title(f'Distribution of {var_name}')
    ax.set_xlabel(var_name)
    ax.set_ylabel("Count")

fig.tight_layout()
plt.show()


columns = ['Age', 'RoomService', 'FoodCourt', 'ShoppingMall', 'Spa', 'VRDeck', 'Transported']

corr_matrix = train_df[columns].corr()
corr_matrix


plt.figure(figsize=(15,6))
sns.heatmap(corr_matrix, vmax=0.6, square=True, annot=True)
