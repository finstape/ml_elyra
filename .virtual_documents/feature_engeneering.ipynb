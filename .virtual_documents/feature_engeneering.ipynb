import numpy as np
import pandas as pd

import seaborn as sns

import plotly.express as px
import matplotlib.pyplot as plt
import plotly.graph_objects as go
from plotly.subplots import make_subplots


train_df = pd.read_csv('train.csv')
test_df = pd.read_csv('test.csv')


train_df[['Deck', 'Cabin_Num', 'Cabin_Side']] = train_df['Cabin'].str.split('/', expand=True)
test_df[['Deck', 'Cabin_Num', 'Cabin_Side']] = test_df['Cabin'].str.split('/', expand=True)

train_df['Cabin_Num'] = pd.to_numeric(train_df['Cabin_Num'], errors='coerce')
test_df['Cabin_Num'] = pd.to_numeric(test_df['Cabin_Num'], errors='coerce')

train_df['Group'] = train_df['PassengerId'].apply(lambda x: x.split('_')[0])
test_df['Group'] = test_df['PassengerId'].apply(lambda x: x.split('_')[0])

train_df['Total_Spend'] = train_df[['RoomService', 'FoodCourt', 'ShoppingMall', 'Spa', 'VRDeck']].sum(axis=1)
test_df['Total_Spend'] = test_df[['RoomService', 'FoodCourt', 'ShoppingMall', 'Spa', 'VRDeck']].sum(axis=1)

train_df[['Cabin', 'Deck', 'Cabin_Num', 'Cabin_Side', 'PassengerId', 'Group', 'Total_Spend']].head()


plt.figure(figsize=(16, 10))

plt.subplot(2, 2, 1)
sns.countplot(data=train_df, x='Deck', hue='Transported')
plt.title('Distribution by deck (Deck)')

plt.subplot(2, 2, 2)
sns.countplot(data=train_df, x='Cabin_Side', hue='Transported')
plt.title('Distribution on the sides of the cabin (Cabin_Side)')

plt.subplot(2, 2, 3)
sns.histplot(train_df, x='Total_Spend', bins=30, kde=True, hue='Transported')
plt.title('Distribution of the total expense (Total_Spend)')

plt.subplot(2, 2, 4)
sns.histplot(train_df, x='Cabin_Num', bins=30, kde=True, hue='Transported')
plt.title('Distribution of cabin rooms (Cabin_Num)')

plt.tight_layout()
plt.show()


train_df['Group'] = train_df['PassengerId'].apply(lambda x: x.split('_')[0])
test_df['Group'] = test_df['PassengerId'].apply(lambda x: x.split('_')[0])

train_df['Group_Size'] = train_df.groupby('Group')['Group'].transform('count')
test_df['Group_Size'] = test_df.groupby('Group')['Group'].transform('count')

train_df['InGroup'] = (train_df['Group_Size'] > 1).astype(int)
test_df['InGroup'] = (test_df['Group_Size'] > 1).astype(int)


fig=plt.figure(figsize=(16, 12))

plt.subplot(2, 2, 1)
sns.countplot(data=train_df, x='InGroup', hue='Transported')
plt.title('Distribution of InGroup')

plt.subplot(2, 2, 2)
sns.countplot(data=train_df, x='Group_Size', hue='Transported')
plt.title('Distribution of Group Size')
fig.tight_layout()


train_df['Spent_Money'] = (train_df['Total_Spend'] > 0).astype(int)
test_df['Spent_Money'] = (test_df['Total_Spend'] > 0).astype(int)


plt.figure(figsize=(5, 5))

plt.subplot(1, 1, 1)
sns.countplot(data=train_df, x='Spent_Money', hue='Transported')
plt.title('Distribution of Spent Money')


train_df['Large_Group'] = (train_df['Group_Size'] > 4).astype(int)
test_df['Large_Group'] = (test_df['Group_Size'] > 4).astype(int)


plt.figure(figsize=(5, 5))

plt.subplot(1, 1, 1)
sns.countplot(data=train_df, x='Large_Group', hue='Transported')
plt.title('Distribution of Large Group')


train_df['Middle_Deck'] = train_df['Deck'].isin(['F', 'G', 'E']).astype(int)
test_df['Middle_Deck'] = test_df['Deck'].isin(['F', 'G', 'E']).astype(int)


plt.figure(figsize=(5, 5))

plt.subplot(1, 1, 1)
sns.countplot(data=train_df, x='Middle_Deck', hue='Transported')
plt.title('Distribution of Middle Deck')


train_df.info()
